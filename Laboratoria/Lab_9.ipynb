{
 "cells": [
  {
   "cell_type": "code",
   "execution_count": null,
   "id": "16fb8f70",
   "metadata": {},
   "outputs": [],
   "source": [
    "import pandas as pd\n",
    "import numpy as np"
   ]
  },
  {
   "cell_type": "markdown",
   "id": "54c26ff7",
   "metadata": {},
   "source": [
    "### Pandas\n",
    "- Biblioteka do pracy z ramkami danych (odpowiednik R-owego `data.frame()`) oraz szeregami czasowymi,\n",
    "- Udostępnia narzędzia do wczytywania danych, manipulowania nimi oraz do łatwego tworzenia wykresów,\n",
    "- Działa dość szybko, ale wolniej niż numpy. \n",
    "\n",
    "### Numpy\n",
    "- Biblioteka do pracy z macierzami i wektorami, ale nie tylko (sporo funkcji matematycznych, generowanie danych z rozkładu itp.),\n",
    "- Działa bardzo szybko.\n",
    "\n",
    "Powyższe pakiety bardzo dobrze się uzupełniają i będziecie z nich regularnie korzystać pracując z danymi w Pythonie. "
   ]
  },
  {
   "cell_type": "markdown",
   "id": "8c370e1f",
   "metadata": {},
   "source": [
    "## 0. Jupyter Notebook"
   ]
  },
  {
   "cell_type": "markdown",
   "id": "91a552c8",
   "metadata": {},
   "source": [
    "Jupter Notebook umożliwia na pracę z językiem Python w formie \"notatników\". Notatnik składa się z komórek i na zajęciach będziemy używać dwóch typów:\n",
    "- Komórki z kodem (`Code`)\n",
    "- Komórki z tekstem (`Markdown`)\n",
    "\n",
    "Dzięki obsłudze języka Markdown możemy tworzyć całkiem rozbudowane dokumenty zawierające obrazki, klikalne linki, listy, a nawet kod LaTeX'owy:\n",
    "\n",
    "$$\\int_0^\\infty \\frac{1}{\\sigma\\sqrt{2\\pi}}\\cdot e^{\\frac{-x^2}{2\\sigma^2}} dx = \\frac{1}{2}$$"
   ]
  },
  {
   "cell_type": "markdown",
   "id": "7ce20d24",
   "metadata": {},
   "source": [
    "## 1. Kilka sposobów na utworzenie ramki danych"
   ]
  },
  {
   "cell_type": "code",
   "execution_count": null,
   "id": "54abce4c",
   "metadata": {},
   "outputs": [],
   "source": [
    "# dictionary\n",
    "\n",
    "data = {\n",
    "    \"year\": [2016, 2017, 2018, 2019, 2020],\n",
    "    \"population\": [37989220, 37953180, 37921592, 37887768, 37846611]\n",
    "}\n",
    "\n",
    "df_pop = None # todo"
   ]
  },
  {
   "cell_type": "code",
   "execution_count": null,
   "id": "d186937b",
   "metadata": {},
   "outputs": [],
   "source": [
    "# numpy\n",
    "\n",
    "data = np.array(\n",
    "    [\n",
    "        [2016, 37989220],\n",
    "        [2017, 37953180],\n",
    "        [2018, 37921592],\n",
    "        [2019, 37887768],\n",
    "        [2020, 37846611]\n",
    "    ]\n",
    ")\n",
    "\n",
    "df_pop = None # todo"
   ]
  },
  {
   "cell_type": "markdown",
   "id": "1c6b525d",
   "metadata": {},
   "source": [
    "## 2. Wczytywanie danych z pliku do ramki danych"
   ]
  },
  {
   "cell_type": "code",
   "execution_count": null,
   "id": "3e81486c",
   "metadata": {},
   "outputs": [],
   "source": [
    "# csv\n",
    "filepath = \"data/forestfires.csv\"\n",
    "\n",
    "df_fire = None # todo"
   ]
  },
  {
   "cell_type": "code",
   "execution_count": null,
   "id": "b7b190fc",
   "metadata": {},
   "outputs": [],
   "source": [
    "# excel\n",
    "filepath = \"data/forestfires.xlsx\"\n",
    "\n",
    "df_fire = None # todo"
   ]
  },
  {
   "cell_type": "code",
   "execution_count": null,
   "id": "f9b37294",
   "metadata": {},
   "outputs": [],
   "source": [
    "# tsv \n",
    "filepath = \"data/forestfires.tsv\"\n",
    "\n",
    "df_fire = None # todo"
   ]
  },
  {
   "cell_type": "markdown",
   "id": "c8f9a052",
   "metadata": {},
   "source": [
    "## 3. Filtrowanie ramki danych i inne podstawowe operacje"
   ]
  },
  {
   "cell_type": "code",
   "execution_count": null,
   "id": "0c91b24a",
   "metadata": {},
   "outputs": [],
   "source": [
    "# Wyświetlenie informacji o kolumnach\n",
    "\n"
   ]
  },
  {
   "cell_type": "code",
   "execution_count": null,
   "id": "88864974",
   "metadata": {},
   "outputs": [],
   "source": [
    "# Wyświetlenie podstawowych statystyk kolumn liczbowych\n",
    "\n"
   ]
  },
  {
   "cell_type": "code",
   "execution_count": null,
   "id": "1ae7ccc1",
   "metadata": {},
   "outputs": [],
   "source": [
    "# Wybieramy pierwsze 20 wierszy (loc)\n",
    "\n"
   ]
  },
  {
   "cell_type": "code",
   "execution_count": null,
   "id": "82331977",
   "metadata": {},
   "outputs": [],
   "source": [
    "# Wybieramy pierwsze 20 wierszy (iloc)\n",
    "\n"
   ]
  },
  {
   "cell_type": "code",
   "execution_count": null,
   "id": "244e488c",
   "metadata": {},
   "outputs": [],
   "source": [
    "# Wybieramy kolumnę `wind`\n",
    "\n"
   ]
  },
  {
   "cell_type": "code",
   "execution_count": null,
   "id": "c36c1027",
   "metadata": {},
   "outputs": [],
   "source": [
    "# Wybieramy kolumny `X`, `Y`\n",
    "\n"
   ]
  },
  {
   "cell_type": "code",
   "execution_count": null,
   "id": "25e93889",
   "metadata": {},
   "outputs": [],
   "source": [
    "# Wybieramy wiersze, w których dzień tygodnia to wtorek\n",
    "\n"
   ]
  },
  {
   "cell_type": "code",
   "execution_count": null,
   "id": "7ae9183c",
   "metadata": {},
   "outputs": [],
   "source": [
    "# Eksport do macierzy numpy\n",
    "\n"
   ]
  },
  {
   "cell_type": "code",
   "execution_count": null,
   "id": "72dd52ff",
   "metadata": {},
   "outputs": [],
   "source": [
    "# Eksport do csv\n",
    "\n"
   ]
  },
  {
   "cell_type": "code",
   "execution_count": null,
   "id": "ca14616d",
   "metadata": {},
   "outputs": [],
   "source": [
    "# Eksport do LaTeX'a\n",
    "\n"
   ]
  },
  {
   "cell_type": "markdown",
   "id": "e9465af9",
   "metadata": {},
   "source": [
    "## 4. Rysowanie wykresów"
   ]
  },
  {
   "cell_type": "code",
   "execution_count": null,
   "id": "ae06dc08",
   "metadata": {},
   "outputs": [],
   "source": [
    "# histogram temperatury\n",
    "\n"
   ]
  },
  {
   "cell_type": "code",
   "execution_count": null,
   "id": "3842663d",
   "metadata": {},
   "outputs": [],
   "source": [
    "# zależność temperatury od wiatru\n",
    "\n"
   ]
  },
  {
   "cell_type": "code",
   "execution_count": null,
   "id": "0e8aee10",
   "metadata": {},
   "outputs": [],
   "source": [
    "# lokalizacje pożarów\n",
    "\n"
   ]
  },
  {
   "cell_type": "code",
   "execution_count": null,
   "id": "db4a9826",
   "metadata": {},
   "outputs": [],
   "source": [
    "# zależność temperatury od wiatru z uwzględnieniem wiatru\n",
    "\n"
   ]
  },
  {
   "cell_type": "code",
   "execution_count": null,
   "id": "a163e8ea",
   "metadata": {},
   "outputs": [],
   "source": [
    "# lokalizacje pożarów a ich rozmiar (gdzie były największe pożary?)\n",
    "\n"
   ]
  },
  {
   "cell_type": "markdown",
   "id": "139a9710",
   "metadata": {},
   "source": [
    "## 5. Zmienianie wartości w ramkach danych"
   ]
  },
  {
   "cell_type": "code",
   "execution_count": null,
   "id": "fa367c80",
   "metadata": {},
   "outputs": [],
   "source": [
    "# Chcemy zamienić miesiąc marzec `mar` na liczbę 3\n",
    "# Spróbujmy w \"zwykły\" sposób\n",
    "\n"
   ]
  },
  {
   "cell_type": "code",
   "execution_count": null,
   "id": "824a11ee",
   "metadata": {},
   "outputs": [],
   "source": [
    "# Wykorzystanie metody loc\n"
   ]
  },
  {
   "cell_type": "code",
   "execution_count": null,
   "id": "53bf2d24",
   "metadata": {},
   "outputs": [],
   "source": [
    "# Wykorzystanie metody apply\n"
   ]
  },
  {
   "cell_type": "code",
   "execution_count": null,
   "id": "07634883",
   "metadata": {},
   "outputs": [],
   "source": [
    "# Wykorzystanie metody map\n",
    "map_dict = {\n",
    "    'jan': 1,\n",
    "    'feb': 2,\n",
    "    'mar': 3,\n",
    "    'apr': 4,\n",
    "    'mar': 5,\n",
    "    'jun': 6,\n",
    "    'jul': 7,\n",
    "    'aug': 8,\n",
    "    'sep': 9,\n",
    "    'oct': 10,\n",
    "    'nov': 11,\n",
    "    'dec': 12,\n",
    "}\n",
    "\n"
   ]
  },
  {
   "cell_type": "code",
   "execution_count": null,
   "id": "699360eb",
   "metadata": {},
   "outputs": [],
   "source": []
  }
 ],
 "metadata": {
  "kernelspec": {
   "display_name": "Python 3",
   "language": "python",
   "name": "python3"
  },
  "language_info": {
   "codemirror_mode": {
    "name": "ipython",
    "version": 3
   },
   "file_extension": ".py",
   "mimetype": "text/x-python",
   "name": "python",
   "nbconvert_exporter": "python",
   "pygments_lexer": "ipython3",
   "version": "3.8.5"
  }
 },
 "nbformat": 4,
 "nbformat_minor": 5
}
